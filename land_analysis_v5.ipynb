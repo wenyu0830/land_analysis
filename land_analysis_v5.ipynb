{
 "cells": [
  {
   "cell_type": "code",
   "execution_count": 783,
   "metadata": {
    "collapsed": true
   },
   "outputs": [],
   "source": [
    "from matplotlib import pyplot as plt\n",
    "from pathlib import Path \n",
    "from PIL import Image\n",
    "from scipy import ndimage, misc\n",
    "import numpy as np\n",
    "import cv2\n",
    "import os\n",
    "import math"
   ]
  },
  {
   "cell_type": "code",
   "execution_count": 784,
   "metadata": {
    "collapsed": true
   },
   "outputs": [],
   "source": [
    "def remove_noise(imgray,row,col):\n",
    "    ori_imgray = imgray.copy()\n",
    "    resolution = 0\n",
    "    resolution = 4\n",
    "\n",
    "    \n",
    "\n",
    "    invert_color(imgray, row, col)\n",
    "    ret,thresh = cv2.threshold(imgray,10,255,0)\n",
    "    im2, contours, hierarchy = cv2.findContours(thresh,cv2.RETR_TREE,cv2.CHAIN_APPROX_SIMPLE)\n",
    "    \n",
    "\n",
    "    while (len(contours)>1):\n",
    "        print(\"resolution\",resolution)\n",
    "        resolution += 1\n",
    "        imgray = ori_imgray.copy()\n",
    "        \n",
    "\n",
    "        resolution_image(row,col,resolution,imgray)\n",
    "        \n",
    "        invert_color(imgray, row, col)\n",
    "        ret,thresh = cv2.threshold(imgray,10,255,0)\n",
    "        im2, contours, hierarchy = cv2.findContours(thresh,cv2.RETR_TREE,cv2.CHAIN_APPROX_SIMPLE)\n",
    "        \n",
    "        #get the coordinate from land\n",
    "        cnt = contours[0]\n",
    "        #print ('contours',contours)\n",
    "        \n",
    "        #land_cor=[]\n",
    "        #for k in range(len(cnt)):\n",
    "            \n",
    "        #    land_cor.append(cnt[k])\n",
    "            \n",
    "        #print ('land_cor',land_cor)\n",
    "       \n",
    "        \n",
    "        land_cor=[]\n",
    "        for i in range(len(cnt)):\n",
    "            tmp = cnt[i]\n",
    "            for j in range(len(tmp)):\n",
    "                land_cor.append(  (tmp[j][0], tmp[j][1]) )\n",
    "    \n",
    "    \n",
    "    \n",
    "    test_output = os.path.join('./tochi_test37/'+'removenoisefun'+'.png' )\n",
    "    print(\"output_path is\", test_output)\n",
    "    cv2.imwrite(test_output, imgray)\n",
    "\n",
    "    \n",
    "    #ivert image color\n",
    "    invert_color(imgray, row, col)\n",
    "\n",
    "    return imgray, land_cor, contours\n",
    " "
   ]
  },
  {
   "cell_type": "code",
   "execution_count": 785,
   "metadata": {
    "collapsed": true
   },
   "outputs": [],
   "source": [
    "def resolution_image(row,col,resolution,imgray):\n",
    "    for r in range (resolution):\n",
    "        wpts = []\n",
    "        for i in range(1,row-1):\n",
    "            for j in range(1,col-1):\n",
    "                if (imgray[i][j]==255):\n",
    "                    wpts.append((i, j))\n",
    "              \n",
    "        for k in range(len(wpts)):\n",
    "            i, j = wpts[k]\n",
    "            #imgray[i][j]=255\n",
    "            imgray[i+1][j]=255\n",
    "            imgray[i+1][j+1]=255\n",
    "            imgray[i][j+1]=255\n",
    "            imgray[i-1][j+1]=255\n",
    "            imgray[i-1][j]=255\n",
    "            imgray[i-1][j-1]=255\n",
    "            imgray[i][j-1]=255\n",
    "            imgray[i+1][j-1]=255\n",
    "            \n",
    "            \n",
    "    for a in range (resolution):\n",
    "        wpts=[]\n",
    "\n",
    "        for i in range(1,row-1):\n",
    "            for j in range(1,col-1):\n",
    "                if (imgray[i][j]!=255):\n",
    "                    wpts.append((i, j))\n",
    "    \n",
    "        for k in range(len(wpts)):\n",
    "            i, j = wpts[k]\n",
    "            imgray[i+1][j]=imgray[i][j]\n",
    "            imgray[i+1][j+1]=imgray[i][j]\n",
    "            imgray[i][j+1]=imgray[i][j]\n",
    "            imgray[i-1][j+1]=imgray[i][j]\n",
    "            imgray[i-1][j]=imgray[i][j]\n",
    "            imgray[i-1][j-1]=imgray[i][j]\n",
    "            imgray[i][j-1]=imgray[i][j]\n",
    "            imgray[i+1][j-1]=imgray[i][j]"
   ]
  },
  {
   "cell_type": "code",
   "execution_count": 786,
   "metadata": {
    "collapsed": true
   },
   "outputs": [],
   "source": [
    "def road_detection(new_imgray,ori_imgray,row,col):\n",
    "    \n",
    "    for i in range(row):\n",
    "        for j in range(col):\n",
    "            if (new_imgray[i][j]!=255):\n",
    "                ori_imgray[i][j]=255\n",
    " \n",
    "    return ori_imgray\n",
    "  "
   ]
  },
  {
   "cell_type": "code",
   "execution_count": 787,
   "metadata": {
    "collapsed": true
   },
   "outputs": [],
   "source": [
    "def hough_linedetection(ori_imgray):\n",
    " \n",
    "    backtorgb = cv2.cvtColor(ori_imgray,cv2.COLOR_GRAY2RGB)\n",
    "    edges = cv2.Canny(backtorgb,100,200,apertureSize = 3)\n",
    "    minLineLength = 50\n",
    "    maxLineGap = 10\n",
    "    threshold = 15\n",
    " \n",
    "    lines = cv2.HoughLinesP(edges,1,np.pi/180,threshold,minLineLength,maxLineGap)\n",
    "  \n",
    "    return lines\n"
   ]
  },
  {
   "cell_type": "code",
   "execution_count": 788,
   "metadata": {
    "collapsed": true
   },
   "outputs": [],
   "source": [
    "def median_filter(land_cor):\n",
    "    median_result = ndimage.median_filter(imgray, size=(3, 3))\n",
    "    \n",
    "    return median_result"
   ]
  },
  {
   "cell_type": "code",
   "execution_count": 789,
   "metadata": {
    "collapsed": true
   },
   "outputs": [],
   "source": [
    "def getPoints(x1, y1, x2, y2, gp_lst):\n",
    "\n",
    "    if (x1==x2):\n",
    "        for y in range (y1,y2+1):\n",
    "                gp_lst.append((x1,y))\n",
    "    else:\n",
    "    \n",
    "        m = (y2-y1) / (x2-x1)\n",
    "        b = y1 - m * x1\n",
    "        for x in range(x1, x2+1):\n",
    "            y = m * x + b\n",
    "            y=int(y)\n",
    "            gp_lst.append((x,y))\n",
    "    #print (gp_lst)\n",
    "    return gp_lst"
   ]
  },
  {
   "cell_type": "code",
   "execution_count": 790,
   "metadata": {
    "collapsed": true
   },
   "outputs": [],
   "source": [
    "def line_dist(x1,y1,x2,y2):\n",
    "    x=abs(x1-x2)\n",
    "    y=abs(y1-y2)\n",
    "    sum_line=math.sqrt((x**2)+(y**2))\n",
    "    return sum_line"
   ]
  },
  {
   "cell_type": "code",
   "execution_count": 791,
   "metadata": {
    "collapsed": true
   },
   "outputs": [],
   "source": [
    "def getMinLengthLineSegment(point_lst):\n",
    "\n",
    "    min_point=[]\n",
    "    min_length = line_dist(point_lst[0][0], point_lst[0][1], point_lst[1][0], point_lst[1][1])\n",
    "    min_point.append(point_lst[0])\n",
    "    min_point.append(point_lst[1])\n",
    "    print(\"min_point is\",min_point)\n",
    "\n",
    "    for i in range(len(point_lst)):\n",
    "        if (i != len(point_lst)-1):\n",
    "            x1, y1 = point_lst[i]\n",
    "            x2, y2 = point_lst[i+1]\n",
    "            sum_line = line_dist(x1,y1,x2,y2)\n",
    "\n",
    "            if (sum_line<min_length):\n",
    "                min_length=sum_line\n",
    "                min_point[0]=point_lst[i]\n",
    "                min_point[1]=point_lst[i+1]\n",
    "                print(\"min_point is\",min_point)\n",
    "        else:\n",
    "            x1, y1 = point_lst[i]\n",
    "            x2, y2 = point_lst[0]\n",
    "            sum_line = line_dist(x1,y1,x2,y2)\n",
    "\n",
    "            if (sum_line<min_length):\n",
    "                min_length=sum_line\n",
    "                min_point[0]=point_lst[i]\n",
    "                min_point[1]=point_lst[0]\n",
    "                print(\"min_point is\",min_point)\n",
    "                \n",
    "        print (\"min_legth is\",min_length) \n",
    "        print (\"min_point is\",min_point) \n",
    "        return min_length, min_point"
   ]
  },
  {
   "cell_type": "code",
   "execution_count": 792,
   "metadata": {
    "collapsed": true
   },
   "outputs": [],
   "source": [
    "def getMaxLengthLineSegment(point_lst):\n",
    "\n",
    "    max_point=[]\n",
    "    max_length = line_dist(point_lst[0][0], point_lst[0][1], point_lst[1][0], point_lst[1][1])\n",
    "    max_point.append(point_lst[0])\n",
    "    max_point.append(point_lst[1])\n",
    "\n",
    "    for i in range(len(point_lst)):\n",
    "        if (i != len(point_lst)-1):\n",
    "            x1, y1 = point_lst[i]\n",
    "            x2, y2 = point_lst[i+1]\n",
    "            sum_line = line_dist(x1,y1,x2,y2)\n",
    "\n",
    "            if (sum_line>max_length):\n",
    "                max_length=sum_line\n",
    "                max_point[0]=point_lst[i]\n",
    "                max_point[1]=point_lst[i+1]\n",
    "\n",
    "        else:\n",
    "            x1, y1 = point_lst[i]\n",
    "            x2, y2 = point_lst[0]\n",
    "            sum_line = line_dist(x1,y1,x2,y2)\n",
    "\n",
    "            if (sum_line>max_length):\n",
    "                max_length=sum_line\n",
    "                max_point[0]=point_lst[i]\n",
    "                max_point[1]=point_lst[0]\n",
    "                \n",
    "                \n",
    "    print (\"max_legth is\",max_length) \n",
    "    print (\"max_point is\",max_point)             \n",
    "    return max_length, max_point"
   ]
  },
  {
   "cell_type": "code",
   "execution_count": 793,
   "metadata": {
    "collapsed": true
   },
   "outputs": [],
   "source": [
    "def Gravity_Center(point_lst):\n",
    "    count_x=0\n",
    "    count_y=0\n",
    "    for i in range(len(point_lst)):\n",
    "        if (i==0):\n",
    "            count_x=point_lst[i][0]\n",
    "            count_y=point_lst[i][1]\n",
    "        else:\n",
    "            count_x+=point_lst[i][0]\n",
    "            count_y+=point_lst[i][1]\n",
    "            \n",
    "    GC_x= count_x / len(point_lst)\n",
    "    GC_y= count_y / len(point_lst)\n",
    "    GC_x=int(GC_x)\n",
    "    GC_y=int(GC_y)\n",
    "    print(GC_x)\n",
    "    print(GC_y)\n",
    "    \n",
    "    return GC_x,GC_y\n",
    "        #print('point_lst is',point_lst[i])"
   ]
  },
  {
   "cell_type": "code",
   "execution_count": 794,
   "metadata": {
    "collapsed": true
   },
   "outputs": [],
   "source": [
    "def dist(x1,y1, x2,y2, x3,y3): # x3,y3 is the point\n",
    "    px = x2-x1\n",
    "    py = y2-y1\n",
    "\n",
    "    something = px*px + py*py\n",
    "\n",
    "    u =  ((x3 - x1) * px + (y3 - y1) * py) / float(something)\n",
    "\n",
    "    if u > 1:\n",
    "        u = 1\n",
    "    elif u < 0:\n",
    "        u = 0\n",
    "\n",
    "    x = x1 + u * px\n",
    "    y = y1 + u * py\n",
    "\n",
    "    dx = x - x3\n",
    "    dy = y - y3\n",
    "\n",
    "    # Note: If the actual distance does not matter,\n",
    "    # if you only want to compare what this function\n",
    "    # returns to other results of this function, you\n",
    "    # can just return the squared distance instead\n",
    "    # (i.e. remove the sqrt) to gain a little performance\n",
    "\n",
    "    dist = math.sqrt(dx*dx + dy*dy)\n",
    "    print (dist)\n",
    "\n",
    "    return dist"
   ]
  },
  {
   "cell_type": "code",
   "execution_count": 795,
   "metadata": {
    "collapsed": true
   },
   "outputs": [],
   "source": [
    "def invert_color(imgray, row, col):\n",
    "    for i in range(row):\n",
    "        for j in range(col):\n",
    "            imgray[i][j] = 255 - imgray[i][j]"
   ]
  },
  {
   "cell_type": "code",
   "execution_count": 796,
   "metadata": {
    "collapsed": true
   },
   "outputs": [],
   "source": [
    "def enhance_image(imgray):\n",
    "    print('ENHACE')\n",
    "    #median_result=median_filter(imgray)\n",
    "    #output_path = os.path.join('./tochi_test37/'+'median_filter'+'.bmp' )\n",
    "    #cv2.imwrite(output_path, median_result)\n",
    "    #print('median print finish')"
   ]
  },
  {
   "cell_type": "code",
   "execution_count": 797,
   "metadata": {
    "collapsed": true
   },
   "outputs": [],
   "source": [
    "def run(myfile,line):\n",
    "\n",
    "    im = cv2.imread(myfile)\n",
    " \n",
    "    check_file = Path(myfile) \n",
    "    if check_file.is_file():\n",
    "        print ('file exist')\n",
    "    else:\n",
    "        print ('not')\n",
    "\n",
    "    #Gray tone\n",
    "    imgray = cv2.cvtColor(im,cv2.COLOR_BGR2GRAY)\n",
    "    ori_imgray = imgray.copy()\n",
    "    ori2_imgray = imgray.copy()   \n",
    "\n",
    "    #enhance_image(imgray)\n",
    "    \n",
    "    row=imgray.shape[0]\n",
    "    col=imgray.shape[1]\n",
    "    new_imgray, land_cor, contours = remove_noise(ori_imgray, row, col)\n",
    "    #for i in range(row):\n",
    "    #    print (imgray[i][0])\n",
    "    #imgray, land_cor = remove_noise(imgray, row, col)\n",
    "    print (row, col)\n",
    "    \n",
    "    \n",
    "    rode_imgray=road_detection(new_imgray,ori2_imgray,row,col)\n",
    " \n",
    "    \n",
    "    \n",
    "    #draw the line of contour\n",
    "    #for i in range(1, len(land_cor)):\n",
    "    #    x1, y1 = land_cor[i]\n",
    "    #    x2, y2 = land_cor[i-1]\n",
    "    #    cv2.line( backtorgb,(x1,y1),(x2,y2),(0,255,0),2   )\n",
    "    \n",
    "    \n",
    "  \n",
    "    \n",
    "    min_length, min_point=getMinLengthLineSegment(land_cor)\n",
    "    max_length, max_point=getMaxLengthLineSegment(land_cor)\n",
    "    \n",
    " \n",
    "    #hough\n",
    "    backtorgb = cv2.cvtColor(rode_imgray,cv2.COLOR_GRAY2RGB)\n",
    "    hough_lines=hough_linedetection(rode_imgray)\n",
    "    \n",
    "    for x in range(0, len(hough_lines)):\n",
    "        for x1,y1,x2,y2 in hough_lines[x]:\n",
    "            cv2.line(backtorgb,(x1,y1),(x2,y2),(0,255,0),2)\n",
    "    \n",
    "  \n",
    "    hough_output = os.path.join('./tochi_test37/'+line+'_hough'+'.png' )\n",
    " \n",
    "    cv2.imwrite(hough_output, backtorgb)\n",
    "    ret,thresh = cv2.threshold(new_imgray,127,255,0)\n",
    "    \n",
    "    #findContours\n",
    "    #im2, contours, hierarchy = cv2.findContours(thresh,cv2.RETR_TREE,cv2.CHAIN_APPROX_SIMPLE)\n",
    "    \n",
    "    #get all point from hough\n",
    "    gp_lst=[]\n",
    "    for i in range (0,len(hough_lines)):\n",
    "         for x1,y1,x2,y2 in hough_lines[i]:\n",
    "                getPoints(x1, y1, x2, y2, gp_lst)\n",
    "                \n",
    "    \n",
    "    #gravity of road \n",
    "    GC_x, GC_y=Gravity_Center(gp_lst)\n",
    "    print (\"GC_x, GC_y\",GC_x, GC_y)\n",
    "    \n",
    "    cv2.line(backtorgb,(0,0),(GC_x, GC_y),(0,255,0),2)\n",
    "    \n",
    "    gravity_output = os.path.join('./tochi_test37/'+'gravity_output'+'.png' )\n",
    "    cv2.imwrite(gravity_output, backtorgb)\n",
    "    \n",
    "    #point to line distance\n",
    "    \n",
    "    x1,y1=max_point[0]\n",
    "    x2,y2=max_point[1]\n",
    "    \n",
    "    #print ('max_point',type(max_point))\n",
    "    #print ('min_point',type(min_point))\n",
    "    \n",
    "    dist(x1,y1, x2,y2, GC_x, GC_y)\n",
    "    \n",
    "    x1,y1=min_point[0]\n",
    "    x2,y2=min_point[1]\n",
    "    dist(x1,y1, x2,y2, GC_x, GC_y)        \n",
    "    p\n",
    "  "
   ]
  },
  {
   "cell_type": "code",
   "execution_count": 798,
   "metadata": {},
   "outputs": [
    {
     "name": "stdout",
     "output_type": "stream",
     "text": [
      "./tochi_test37/C62145A23.png\n",
      "file exist\n",
      "resolution 4\n",
      "output_path is ./tochi_test37/removenoisefun.png\n",
      "output_path is ./tochi_test37/remoafterinvert.png\n",
      "output_path is ./tochi_test37/remoafterinvert_ori.png\n",
      "600 600\n",
      "i am in road detection\n",
      "output_path is ./tochi_test37/road_detection_new_imgray.png\n",
      "i am in road detection\n",
      "output_path is ./tochi_test37/road_detection_ori_imgray.png\n",
      "min_point is [(533, 188), (532, 189)]\n",
      "min_legth is 1.4142135623730951\n",
      "min_point is [(533, 188), (532, 189)]\n",
      "max_legth is 15.0\n",
      "max_point is [(311, 259), (311, 274)]\n",
      "108\n",
      "346\n",
      "GC_x, GC_y 108 346\n",
      "215.3903433304288\n",
      "452.133829745132\n",
      "out of while\n"
     ]
    }
   ],
   "source": [
    "output_dir='./tochi'\n",
    "fp=open('./tochi/image_list.txt','r')\n",
    "line =  fp.readline()\n",
    "\n",
    "\n",
    "while line:\n",
    "   \n",
    "    line = line.strip()\n",
    "    \n",
    "    myfile = './tochi/' + line\n",
    "    \n",
    "    print (myfile)\n",
    "    run(myfile,line)\n",
    "    line =  fp.readline()\n",
    "\n",
    "\n",
    "print(\"out of while\")    \n",
    "\n",
    "    \n",
    "    "
   ]
  },
  {
   "cell_type": "code",
   "execution_count": 799,
   "metadata": {},
   "outputs": [
    {
     "name": "stdout",
     "output_type": "stream",
     "text": [
      "all program is done\n"
     ]
    }
   ],
   "source": [
    "print(\"all program is done\")"
   ]
  }
 ],
 "metadata": {
  "kernelspec": {
   "display_name": "Python 3",
   "language": "python",
   "name": "python3"
  },
  "language_info": {
   "codemirror_mode": {
    "name": "ipython",
    "version": 3
   },
   "file_extension": ".py",
   "mimetype": "text/x-python",
   "name": "python",
   "nbconvert_exporter": "python",
   "pygments_lexer": "ipython3",
   "version": "3.6.5"
  }
 },
 "nbformat": 4,
 "nbformat_minor": 2
}
